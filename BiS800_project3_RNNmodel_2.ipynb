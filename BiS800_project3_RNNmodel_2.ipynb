{
  "nbformat": 4,
  "nbformat_minor": 0,
  "metadata": {
    "colab": {
      "name": "BiS800_project3_RNNmodel-2",
      "provenance": [],
      "collapsed_sections": [],
      "toc_visible": true,
      "mount_file_id": "1OeYBopDTLXl0jA3sCGrhoEhCQBwkVXAx",
      "authorship_tag": "ABX9TyMQO4rkGz9UbWaDDE8k/L4f",
      "include_colab_link": true
    },
    "kernelspec": {
      "name": "python3",
      "display_name": "Python 3"
    },
    "accelerator": "GPU"
  },
  "cells": [
    {
      "cell_type": "markdown",
      "metadata": {
        "id": "view-in-github",
        "colab_type": "text"
      },
      "source": [
        "<a href=\"https://colab.research.google.com/github/jwhan1129/Basic-Machine-learning-Codes/blob/master/BiS800_project3_RNNmodel_2.ipynb\" target=\"_parent\"><img src=\"https://colab.research.google.com/assets/colab-badge.svg\" alt=\"Open In Colab\"/></a>"
      ]
    },
    {
      "cell_type": "markdown",
      "metadata": {
        "id": "l_rm9eJiylGS",
        "colab_type": "text"
      },
      "source": [
        "#0. Download dataset"
      ]
    },
    {
      "cell_type": "code",
      "metadata": {
        "id": "ClUegrtkLCIz",
        "colab_type": "code",
        "outputId": "45827de0-1f81-4235-d2a6-4eddafdfffee",
        "colab": {
          "base_uri": "https://localhost:8080/",
          "height": 105
        }
      },
      "source": [
        "!git clone https://github.com/alexarnimueller/LSTM_peptides"
      ],
      "execution_count": 1,
      "outputs": [
        {
          "output_type": "stream",
          "text": [
            "Cloning into 'LSTM_peptides'...\n",
            "remote: Enumerating objects: 247, done.\u001b[K\n",
            "remote: Total 247 (delta 0), reused 0 (delta 0), pack-reused 247\u001b[K\n",
            "Receiving objects: 100% (247/247), 254.58 KiB | 838.00 KiB/s, done.\n",
            "Resolving deltas: 100% (141/141), done.\n"
          ],
          "name": "stdout"
        }
      ]
    },
    {
      "cell_type": "code",
      "metadata": {
        "id": "EKrrM2yRLj1Z",
        "colab_type": "code",
        "colab": {}
      },
      "source": [
        "import pandas as pd\n",
        "import tensorflow as tf\n",
        "import numpy as np\n",
        "import os\n",
        "from tqdm import tqdm\n",
        "import time\n",
        "from google.colab import files\n",
        "import matplotlib.pyplot as plt\n",
        "from sklearn.model_selection import train_test_split\n",
        "import itertools\n",
        "import sys\n",
        "import random\n",
        "import scipy"
      ],
      "execution_count": 0,
      "outputs": []
    },
    {
      "cell_type": "code",
      "metadata": {
        "id": "K0ARyKrz58dP",
        "colab_type": "code",
        "colab": {}
      },
      "source": [
        "f = open(\"/content/LSTM_peptides/training_sequences_noC.csv\", 'r')\n",
        "text = f.readlines()\n",
        "f.close()"
      ],
      "execution_count": 0,
      "outputs": []
    },
    {
      "cell_type": "code",
      "metadata": {
        "id": "hOprRbS66ECF",
        "colab_type": "code",
        "colab": {}
      },
      "source": [
        "text_temp = []\n",
        "for item in text:\n",
        "  while len(item) < 49:\n",
        "    item = item + '\\n'\n",
        "  text_temp.append(item)\n",
        "\n",
        "text = list(itertools.chain.from_iterable(text_temp))"
      ],
      "execution_count": 0,
      "outputs": []
    },
    {
      "cell_type": "code",
      "metadata": {
        "id": "pce9nKU7Fnio",
        "colab_type": "code",
        "colab": {}
      },
      "source": [
        "f = open(\"/content/LSTM_peptides/training_sequences_noC.csv\", 'r')\n",
        "text = f.read()\n",
        "f.close()"
      ],
      "execution_count": 0,
      "outputs": []
    },
    {
      "cell_type": "code",
      "metadata": {
        "id": "sCdgvBWsxSH-",
        "colab_type": "code",
        "colab": {}
      },
      "source": [
        "vocab = [item for item in text]"
      ],
      "execution_count": 0,
      "outputs": []
    },
    {
      "cell_type": "code",
      "metadata": {
        "id": "XR17ZdbAMDe4",
        "colab_type": "code",
        "outputId": "d96f6102-f1b0-4efc-ae4a-536e0646b502",
        "colab": {
          "base_uri": "https://localhost:8080/",
          "height": 34
        }
      },
      "source": [
        "vocab = sorted(set(vocab))\n",
        "print ('고유 문자수 {}개'.format(len(vocab)))"
      ],
      "execution_count": 7,
      "outputs": [
        {
          "output_type": "stream",
          "text": [
            "고유 문자수 20개\n"
          ],
          "name": "stdout"
        }
      ]
    },
    {
      "cell_type": "code",
      "metadata": {
        "id": "9xDOreadJmK9",
        "colab_type": "code",
        "outputId": "7d1b0ca5-25f1-409b-cac0-dfcac6751fbe",
        "colab": {
          "base_uri": "https://localhost:8080/",
          "height": 369
        }
      },
      "source": [
        "vocab"
      ],
      "execution_count": 8,
      "outputs": [
        {
          "output_type": "execute_result",
          "data": {
            "text/plain": [
              "['\\n',\n",
              " 'A',\n",
              " 'D',\n",
              " 'E',\n",
              " 'F',\n",
              " 'G',\n",
              " 'H',\n",
              " 'I',\n",
              " 'K',\n",
              " 'L',\n",
              " 'M',\n",
              " 'N',\n",
              " 'P',\n",
              " 'Q',\n",
              " 'R',\n",
              " 'S',\n",
              " 'T',\n",
              " 'V',\n",
              " 'W',\n",
              " 'Y']"
            ]
          },
          "metadata": {
            "tags": []
          },
          "execution_count": 8
        }
      ]
    },
    {
      "cell_type": "code",
      "metadata": {
        "id": "TlMQbF-4q-mZ",
        "colab_type": "code",
        "colab": {}
      },
      "source": [
        "char2idx = {u:i for i, u in enumerate(vocab)}\n",
        "idx2char = np.array(vocab)\n",
        "\n",
        "text_as_int = np.array([char2idx[c] for c in text])"
      ],
      "execution_count": 0,
      "outputs": []
    },
    {
      "cell_type": "code",
      "metadata": {
        "id": "3zkvm1Ym6pRo",
        "colab_type": "code",
        "colab": {}
      },
      "source": [
        "# 단일 입력에 대해 원하는 문장의 최대 길이\n",
        "seq_length = 100\n",
        "examples_per_epoch = len(text)//seq_length\n",
        "\n",
        "# 훈련 샘플/타깃 만들기\n",
        "char_dataset = tf.data.Dataset.from_tensor_slices(text_as_int)\n",
        "sequences = char_dataset.batch(seq_length+1, drop_remainder=True)"
      ],
      "execution_count": 0,
      "outputs": []
    },
    {
      "cell_type": "code",
      "metadata": {
        "id": "76CE-qJbCcf5",
        "colab_type": "code",
        "colab": {}
      },
      "source": [
        "def split_input_target(chunk):\n",
        "    input_text = chunk[:-1]\n",
        "    target_text = chunk[1:]\n",
        "    return input_text, target_text\n",
        "\n",
        "dataset = sequences.map(split_input_target)"
      ],
      "execution_count": 0,
      "outputs": []
    },
    {
      "cell_type": "code",
      "metadata": {
        "id": "ues6Aiw6DwGW",
        "colab_type": "code",
        "colab": {}
      },
      "source": [
        "batch_size = 32\n",
        "buffer_size = 100000\n",
        "\n",
        "dataset = sequences.map(split_input_target)\n",
        "dataset = dataset.shuffle(buffer_size, seed=10).batch(batch_size, drop_remainder=True)"
      ],
      "execution_count": 0,
      "outputs": []
    },
    {
      "cell_type": "code",
      "metadata": {
        "id": "499MrO0fjQJX",
        "colab_type": "code",
        "colab": {}
      },
      "source": [
        "validation_ratio = 0.2\n",
        "\n",
        "num_elements = 0\n",
        "\n",
        "for element in dataset:\n",
        "    num_elements += 1\n",
        "\n",
        "validation_count = int(validation_ratio * num_elements)\n",
        "training_count = int((1-validation_ratio)* num_elements)\n",
        "val_dataset = dataset.take(validation_count)\n",
        "training_dataset = dataset.skip(validation_count).take(training_count)"
      ],
      "execution_count": 0,
      "outputs": []
    },
    {
      "cell_type": "markdown",
      "metadata": {
        "id": "nfNaFXsOg0Om",
        "colab_type": "text"
      },
      "source": [
        "# 2. Build model"
      ]
    },
    {
      "cell_type": "code",
      "metadata": {
        "id": "95Yq-kBaFp30",
        "colab_type": "code",
        "colab": {}
      },
      "source": [
        "def build_model(vocab_size, embedding_dim, rnn_units, batch_size, file_name):\n",
        "  model = tf.keras.Sequential([\n",
        "    tf.keras.layers.Embedding(vocab_size, embedding_dim,\n",
        "                              batch_input_shape=[batch_size, None]),\n",
        "    tf.keras.layers.LSTM(rnn_units,\n",
        "                        return_sequences=True,\n",
        "                        stateful=True,\n",
        "                        recurrent_initializer='glorot_uniform'),\n",
        "    tf.keras.layers.Dropout(0.2),\n",
        "    tf.keras.layers.LSTM(rnn_units,\n",
        "                        return_sequences=True,\n",
        "                        stateful=True,\n",
        "                        recurrent_initializer='glorot_uniform'),\n",
        "    tf.keras.layers.Dropout(0.4),                    \n",
        "    tf.keras.layers.Dense(vocab_size)\n",
        "  ])\n",
        "  return model"
      ],
      "execution_count": 0,
      "outputs": []
    },
    {
      "cell_type": "code",
      "metadata": {
        "id": "d7fp4jluFsVn",
        "colab_type": "code",
        "colab": {}
      },
      "source": [
        "def loss(label, logits):\n",
        "  loss = tf.keras.losses.sparse_categorical_crossentropy(label, logits, from_logits=True)\n",
        "  return loss"
      ],
      "execution_count": 0,
      "outputs": []
    },
    {
      "cell_type": "code",
      "metadata": {
        "id": "EoLX1vERGMcA",
        "colab_type": "code",
        "colab": {}
      },
      "source": [
        "def model_training(rnn_units, batch_size, training_dataset, val_dataset, epoch, file_name):\n",
        "  model = build_model(\n",
        "    vocab_size = len(vocab),\n",
        "    embedding_dim=embedding_dim,\n",
        "    rnn_units=rnn_units,\n",
        "    batch_size=batch_size,\n",
        "    file_name=file_name)\n",
        "  \n",
        "  model.compile(optimizer='adam', loss=loss)\n",
        "  callback = tf.keras.callbacks.ModelCheckpoint(filepath='/content/bestmodel/Model_{}'.format(file_name)\n",
        "                                              , save_weights_only=True\n",
        "                                              , save_best_only=True)\n",
        "  es = tf.keras.callbacks.EarlyStopping(monitor='loss', patience=10)\n",
        "  history = model.fit(training_dataset, epochs=epoch, callbacks=[callback, es], validation_data=val_dataset)\n",
        "  \n",
        "  return history"
      ],
      "execution_count": 0,
      "outputs": []
    },
    {
      "cell_type": "code",
      "metadata": {
        "id": "7eRWwXt1h9g3",
        "colab_type": "code",
        "colab": {}
      },
      "source": [
        "def printProgress (iteration, total, prefix = '', suffix = '', decimals = 1, barLength = 100): \n",
        "  formatStr = \"{0:.\" + str(decimals) + \"f}\"\n",
        "  percent = formatStr.format(100 * (iteration / float(total)))\n",
        "  filledLength = int(round(barLength * iteration / float(total)))\n",
        "  bar = '#' * filledLength + '-' * (barLength - filledLength)\n",
        "  sys.stdout.write('\\r%s |%s| %s%s %s' % (prefix, bar, percent, '%', suffix))\n",
        "  if iteration == total:\n",
        "    sys.stdout.write('\\n')\n",
        "  sys.stdout.flush()\n"
      ],
      "execution_count": 0,
      "outputs": []
    },
    {
      "cell_type": "code",
      "metadata": {
        "id": "RGFwlhpQGdzr",
        "colab_type": "code",
        "outputId": "697dd886-cc83-4f61-9af1-7962368fe1db",
        "colab": {
          "base_uri": "https://localhost:8080/",
          "height": 1000
        }
      },
      "source": [
        "vocab_size = len(vocab)\n",
        "embedding_dim = 20\n",
        "rnn_units = 256\n",
        "file_name = 'epoch500'\n",
        "epoch = 500\n",
        "\n",
        "history = model_training(rnn_units, batch_size, training_dataset, val_dataset, epoch, file_name)"
      ],
      "execution_count": 24,
      "outputs": [
        {
          "output_type": "stream",
          "text": [
            "Epoch 1/500\n",
            "8/8 [==============================] - 1s 104ms/step - loss: 2.8739 - val_loss: 2.7533\n",
            "Epoch 2/500\n",
            "8/8 [==============================] - 0s 29ms/step - loss: 2.7489 - val_loss: 2.7324\n",
            "Epoch 3/500\n",
            "8/8 [==============================] - 0s 28ms/step - loss: 2.7355 - val_loss: 2.7191\n",
            "Epoch 4/500\n",
            "8/8 [==============================] - 0s 25ms/step - loss: 2.7300 - val_loss: 2.7157\n",
            "Epoch 5/500\n",
            "8/8 [==============================] - 0s 21ms/step - loss: 2.7225 - val_loss: 2.7174\n",
            "Epoch 6/500\n",
            "8/8 [==============================] - 0s 25ms/step - loss: 2.7092 - val_loss: 2.6837\n",
            "Epoch 7/500\n",
            "8/8 [==============================] - 0s 24ms/step - loss: 2.6976 - val_loss: 2.6772\n",
            "Epoch 8/500\n",
            "8/8 [==============================] - 0s 23ms/step - loss: 2.6805 - val_loss: 2.6618\n",
            "Epoch 9/500\n",
            "8/8 [==============================] - 0s 32ms/step - loss: 2.6678 - val_loss: 2.6575\n",
            "Epoch 10/500\n",
            "8/8 [==============================] - 0s 23ms/step - loss: 2.6551 - val_loss: 2.6288\n",
            "Epoch 11/500\n",
            "8/8 [==============================] - 0s 28ms/step - loss: 2.6436 - val_loss: 2.6229\n",
            "Epoch 12/500\n",
            "8/8 [==============================] - 0s 33ms/step - loss: 2.6347 - val_loss: 2.6164\n",
            "Epoch 13/500\n",
            "8/8 [==============================] - 0s 24ms/step - loss: 2.6222 - val_loss: 2.5948\n",
            "Epoch 14/500\n",
            "8/8 [==============================] - 0s 25ms/step - loss: 2.6102 - val_loss: 2.5795\n",
            "Epoch 15/500\n",
            "8/8 [==============================] - 0s 31ms/step - loss: 2.6015 - val_loss: 2.5513\n",
            "Epoch 16/500\n",
            "8/8 [==============================] - 0s 20ms/step - loss: 2.5870 - val_loss: 2.5902\n",
            "Epoch 17/500\n",
            "8/8 [==============================] - 0s 23ms/step - loss: 2.5637 - val_loss: 2.5270\n",
            "Epoch 18/500\n",
            "8/8 [==============================] - 0s 23ms/step - loss: 2.5535 - val_loss: 2.5115\n",
            "Epoch 19/500\n",
            "8/8 [==============================] - 0s 18ms/step - loss: 2.5495 - val_loss: 2.5634\n",
            "Epoch 20/500\n",
            "8/8 [==============================] - 0s 22ms/step - loss: 2.5395 - val_loss: 2.4944\n",
            "Epoch 21/500\n",
            "8/8 [==============================] - 0s 20ms/step - loss: 2.5389 - val_loss: 2.5114\n",
            "Epoch 22/500\n",
            "8/8 [==============================] - 0s 20ms/step - loss: 2.5142 - val_loss: 2.5019\n",
            "Epoch 23/500\n",
            "8/8 [==============================] - 0s 27ms/step - loss: 2.5015 - val_loss: 2.4661\n",
            "Epoch 24/500\n",
            "8/8 [==============================] - 0s 19ms/step - loss: 2.4943 - val_loss: 2.4830\n",
            "Epoch 25/500\n",
            "8/8 [==============================] - 0s 22ms/step - loss: 2.4619 - val_loss: 2.4528\n",
            "Epoch 26/500\n",
            "8/8 [==============================] - 0s 23ms/step - loss: 2.4680 - val_loss: 2.3816\n",
            "Epoch 27/500\n",
            "8/8 [==============================] - 0s 19ms/step - loss: 2.4414 - val_loss: 2.4157\n",
            "Epoch 28/500\n",
            "8/8 [==============================] - 0s 23ms/step - loss: 2.4310 - val_loss: 2.3605\n",
            "Epoch 29/500\n",
            "8/8 [==============================] - 0s 18ms/step - loss: 2.4068 - val_loss: 2.3744\n",
            "Epoch 30/500\n",
            "8/8 [==============================] - 0s 21ms/step - loss: 2.3986 - val_loss: 2.3680\n",
            "Epoch 31/500\n",
            "8/8 [==============================] - 0s 23ms/step - loss: 2.3804 - val_loss: 2.3107\n",
            "Epoch 32/500\n",
            "8/8 [==============================] - 0s 23ms/step - loss: 2.3506 - val_loss: 2.2650\n",
            "Epoch 33/500\n",
            "8/8 [==============================] - 0s 28ms/step - loss: 2.3488 - val_loss: 2.2598\n",
            "Epoch 34/500\n",
            "8/8 [==============================] - 0s 18ms/step - loss: 2.3221 - val_loss: 2.2978\n",
            "Epoch 35/500\n",
            "8/8 [==============================] - 0s 19ms/step - loss: 2.3094 - val_loss: 2.2940\n",
            "Epoch 36/500\n",
            "8/8 [==============================] - 0s 22ms/step - loss: 2.2863 - val_loss: 2.2410\n",
            "Epoch 37/500\n",
            "8/8 [==============================] - 0s 23ms/step - loss: 2.2717 - val_loss: 2.1420\n",
            "Epoch 38/500\n",
            "8/8 [==============================] - 0s 28ms/step - loss: 2.2658 - val_loss: 2.0896\n",
            "Epoch 39/500\n",
            "8/8 [==============================] - 0s 20ms/step - loss: 2.2148 - val_loss: 2.1390\n",
            "Epoch 40/500\n",
            "8/8 [==============================] - 0s 18ms/step - loss: 2.2107 - val_loss: 2.1649\n",
            "Epoch 41/500\n",
            "8/8 [==============================] - 0s 35ms/step - loss: 2.1965 - val_loss: 2.0627\n",
            "Epoch 42/500\n",
            "8/8 [==============================] - 0s 21ms/step - loss: 2.1812 - val_loss: 2.0641\n",
            "Epoch 43/500\n",
            "8/8 [==============================] - 0s 23ms/step - loss: 2.1241 - val_loss: 2.0159\n",
            "Epoch 44/500\n",
            "8/8 [==============================] - 0s 21ms/step - loss: 2.1368 - val_loss: 2.0795\n",
            "Epoch 45/500\n",
            "8/8 [==============================] - 0s 24ms/step - loss: 2.0985 - val_loss: 1.9995\n",
            "Epoch 46/500\n",
            "8/8 [==============================] - 0s 24ms/step - loss: 2.0690 - val_loss: 1.9518\n",
            "Epoch 47/500\n",
            "8/8 [==============================] - 0s 28ms/step - loss: 2.0476 - val_loss: 1.9510\n",
            "Epoch 48/500\n",
            "8/8 [==============================] - 0s 33ms/step - loss: 2.0175 - val_loss: 1.9495\n",
            "Epoch 49/500\n",
            "8/8 [==============================] - 0s 23ms/step - loss: 1.9913 - val_loss: 1.9319\n",
            "Epoch 50/500\n",
            "8/8 [==============================] - 0s 27ms/step - loss: 1.9716 - val_loss: 1.9247\n",
            "Epoch 51/500\n",
            "8/8 [==============================] - 0s 33ms/step - loss: 1.9496 - val_loss: 1.8502\n",
            "Epoch 52/500\n",
            "8/8 [==============================] - 0s 18ms/step - loss: 1.9440 - val_loss: 1.8600\n",
            "Epoch 53/500\n",
            "8/8 [==============================] - 0s 24ms/step - loss: 1.9149 - val_loss: 1.8013\n",
            "Epoch 54/500\n",
            "8/8 [==============================] - 0s 23ms/step - loss: 1.8788 - val_loss: 1.7494\n",
            "Epoch 55/500\n",
            "8/8 [==============================] - 0s 20ms/step - loss: 1.8833 - val_loss: 1.7791\n",
            "Epoch 56/500\n",
            "8/8 [==============================] - 0s 25ms/step - loss: 1.8426 - val_loss: 1.7333\n",
            "Epoch 57/500\n",
            "8/8 [==============================] - 0s 20ms/step - loss: 1.8283 - val_loss: 1.7384\n",
            "Epoch 58/500\n",
            "8/8 [==============================] - 0s 22ms/step - loss: 1.7848 - val_loss: 1.6177\n",
            "Epoch 59/500\n",
            "8/8 [==============================] - 0s 19ms/step - loss: 1.7967 - val_loss: 1.6644\n",
            "Epoch 60/500\n",
            "8/8 [==============================] - 0s 20ms/step - loss: 1.7912 - val_loss: 1.6320\n",
            "Epoch 61/500\n",
            "8/8 [==============================] - 0s 20ms/step - loss: 1.7286 - val_loss: 1.6903\n",
            "Epoch 62/500\n",
            "8/8 [==============================] - 0s 20ms/step - loss: 1.7293 - val_loss: 1.7190\n",
            "Epoch 63/500\n",
            "8/8 [==============================] - 0s 22ms/step - loss: 1.7317 - val_loss: 1.5674\n",
            "Epoch 64/500\n",
            "8/8 [==============================] - 0s 20ms/step - loss: 1.7236 - val_loss: 1.6478\n",
            "Epoch 65/500\n",
            "8/8 [==============================] - 0s 25ms/step - loss: 1.7033 - val_loss: 1.5362\n",
            "Epoch 66/500\n",
            "8/8 [==============================] - 0s 25ms/step - loss: 1.6792 - val_loss: 1.5177\n",
            "Epoch 67/500\n",
            "8/8 [==============================] - 0s 25ms/step - loss: 1.6804 - val_loss: 1.5135\n",
            "Epoch 68/500\n",
            "8/8 [==============================] - 0s 19ms/step - loss: 1.6486 - val_loss: 1.5743\n",
            "Epoch 69/500\n",
            "8/8 [==============================] - 0s 23ms/step - loss: 1.6465 - val_loss: 1.4706\n",
            "Epoch 70/500\n",
            "8/8 [==============================] - 0s 20ms/step - loss: 1.6212 - val_loss: 1.4967\n",
            "Epoch 71/500\n",
            "8/8 [==============================] - 0s 18ms/step - loss: 1.6006 - val_loss: 1.5562\n",
            "Epoch 72/500\n",
            "8/8 [==============================] - 0s 23ms/step - loss: 1.5988 - val_loss: 1.4362\n",
            "Epoch 73/500\n",
            "8/8 [==============================] - 0s 20ms/step - loss: 1.5727 - val_loss: 1.4731\n",
            "Epoch 74/500\n",
            "8/8 [==============================] - 0s 26ms/step - loss: 1.5668 - val_loss: 1.4003\n",
            "Epoch 75/500\n",
            "8/8 [==============================] - 0s 25ms/step - loss: 1.5368 - val_loss: 1.3517\n",
            "Epoch 76/500\n",
            "8/8 [==============================] - 0s 19ms/step - loss: 1.5375 - val_loss: 1.4035\n",
            "Epoch 77/500\n",
            "8/8 [==============================] - 0s 18ms/step - loss: 1.5111 - val_loss: 1.3852\n",
            "Epoch 78/500\n",
            "8/8 [==============================] - 0s 22ms/step - loss: 1.5059 - val_loss: 1.3249\n",
            "Epoch 79/500\n",
            "8/8 [==============================] - 0s 19ms/step - loss: 1.4959 - val_loss: 1.3837\n",
            "Epoch 80/500\n",
            "8/8 [==============================] - 0s 23ms/step - loss: 1.4961 - val_loss: 1.2947\n",
            "Epoch 81/500\n",
            "8/8 [==============================] - 0s 21ms/step - loss: 1.4792 - val_loss: 1.3053\n",
            "Epoch 82/500\n",
            "8/8 [==============================] - 0s 25ms/step - loss: 1.4431 - val_loss: 1.2720\n",
            "Epoch 83/500\n",
            "8/8 [==============================] - 0s 18ms/step - loss: 1.4333 - val_loss: 1.3593\n",
            "Epoch 84/500\n",
            "8/8 [==============================] - 0s 22ms/step - loss: 1.4391 - val_loss: 1.2445\n",
            "Epoch 85/500\n",
            "8/8 [==============================] - 0s 23ms/step - loss: 1.4033 - val_loss: 1.2376\n",
            "Epoch 86/500\n",
            "8/8 [==============================] - 0s 19ms/step - loss: 1.4180 - val_loss: 1.2394\n",
            "Epoch 87/500\n",
            "8/8 [==============================] - 0s 20ms/step - loss: 1.3866 - val_loss: 1.2537\n",
            "Epoch 88/500\n",
            "8/8 [==============================] - 0s 23ms/step - loss: 1.3711 - val_loss: 1.2303\n",
            "Epoch 89/500\n",
            "8/8 [==============================] - 0s 23ms/step - loss: 1.3857 - val_loss: 1.2220\n",
            "Epoch 90/500\n",
            "8/8 [==============================] - 0s 28ms/step - loss: 1.3697 - val_loss: 1.2000\n",
            "Epoch 91/500\n",
            "8/8 [==============================] - 0s 33ms/step - loss: 1.3633 - val_loss: 1.1514\n",
            "Epoch 92/500\n",
            "8/8 [==============================] - 0s 20ms/step - loss: 1.3462 - val_loss: 1.2144\n",
            "Epoch 93/500\n",
            "8/8 [==============================] - 0s 21ms/step - loss: 1.3556 - val_loss: 1.1754\n",
            "Epoch 94/500\n",
            "8/8 [==============================] - 0s 20ms/step - loss: 1.3266 - val_loss: 1.1671\n",
            "Epoch 95/500\n",
            "8/8 [==============================] - 0s 19ms/step - loss: 1.3190 - val_loss: 1.1550\n",
            "Epoch 96/500\n",
            "8/8 [==============================] - 0s 23ms/step - loss: 1.3195 - val_loss: 1.1235\n",
            "Epoch 97/500\n",
            "8/8 [==============================] - 0s 23ms/step - loss: 1.2932 - val_loss: 1.1156\n",
            "Epoch 98/500\n",
            "8/8 [==============================] - 0s 27ms/step - loss: 1.2926 - val_loss: 1.1098\n",
            "Epoch 99/500\n",
            "8/8 [==============================] - 0s 33ms/step - loss: 1.2804 - val_loss: 1.1042\n",
            "Epoch 100/500\n",
            "8/8 [==============================] - 0s 23ms/step - loss: 1.2714 - val_loss: 1.0199\n",
            "Epoch 101/500\n",
            "8/8 [==============================] - 0s 19ms/step - loss: 1.2576 - val_loss: 1.0589\n",
            "Epoch 102/500\n",
            "8/8 [==============================] - 0s 21ms/step - loss: 1.2521 - val_loss: 1.0609\n",
            "Epoch 103/500\n",
            "8/8 [==============================] - 0s 19ms/step - loss: 1.2537 - val_loss: 1.0617\n",
            "Epoch 104/500\n",
            "8/8 [==============================] - 0s 19ms/step - loss: 1.2361 - val_loss: 1.0332\n",
            "Epoch 105/500\n",
            "8/8 [==============================] - 0s 18ms/step - loss: 1.2269 - val_loss: 1.0663\n",
            "Epoch 106/500\n",
            "8/8 [==============================] - 0s 23ms/step - loss: 1.2257 - val_loss: 0.9839\n",
            "Epoch 107/500\n",
            "8/8 [==============================] - 0s 19ms/step - loss: 1.2138 - val_loss: 1.0556\n",
            "Epoch 108/500\n",
            "8/8 [==============================] - 0s 21ms/step - loss: 1.2051 - val_loss: 1.0282\n",
            "Epoch 109/500\n",
            "8/8 [==============================] - 0s 26ms/step - loss: 1.1866 - val_loss: 0.9356\n",
            "Epoch 110/500\n",
            "8/8 [==============================] - 0s 20ms/step - loss: 1.1870 - val_loss: 0.9928\n",
            "Epoch 111/500\n",
            "8/8 [==============================] - 0s 19ms/step - loss: 1.2012 - val_loss: 1.0327\n",
            "Epoch 112/500\n",
            "8/8 [==============================] - 0s 19ms/step - loss: 1.1758 - val_loss: 0.9902\n",
            "Epoch 113/500\n",
            "8/8 [==============================] - 0s 23ms/step - loss: 1.1596 - val_loss: 0.9349\n",
            "Epoch 114/500\n",
            "8/8 [==============================] - 0s 19ms/step - loss: 1.1539 - val_loss: 1.0001\n",
            "Epoch 115/500\n",
            "8/8 [==============================] - 0s 23ms/step - loss: 1.1433 - val_loss: 0.9172\n",
            "Epoch 116/500\n",
            "8/8 [==============================] - 0s 19ms/step - loss: 1.1384 - val_loss: 0.9304\n",
            "Epoch 117/500\n",
            "8/8 [==============================] - 0s 22ms/step - loss: 1.1369 - val_loss: 0.9734\n",
            "Epoch 118/500\n",
            "8/8 [==============================] - 0s 21ms/step - loss: 1.1238 - val_loss: 0.9404\n",
            "Epoch 119/500\n",
            "8/8 [==============================] - 0s 26ms/step - loss: 1.1174 - val_loss: 0.8810\n",
            "Epoch 120/500\n",
            "8/8 [==============================] - 0s 21ms/step - loss: 1.1027 - val_loss: 0.9062\n",
            "Epoch 121/500\n",
            "8/8 [==============================] - 0s 18ms/step - loss: 1.1027 - val_loss: 0.9242\n",
            "Epoch 122/500\n",
            "8/8 [==============================] - 0s 22ms/step - loss: 1.0809 - val_loss: 0.8603\n",
            "Epoch 123/500\n",
            "8/8 [==============================] - 0s 19ms/step - loss: 1.0688 - val_loss: 0.8950\n",
            "Epoch 124/500\n",
            "8/8 [==============================] - 0s 19ms/step - loss: 1.0901 - val_loss: 0.8628\n",
            "Epoch 125/500\n",
            "8/8 [==============================] - 0s 18ms/step - loss: 1.0699 - val_loss: 0.8761\n",
            "Epoch 126/500\n",
            "8/8 [==============================] - 0s 21ms/step - loss: 1.0738 - val_loss: 0.8614\n",
            "Epoch 127/500\n",
            "8/8 [==============================] - 0s 23ms/step - loss: 1.0526 - val_loss: 0.8591\n",
            "Epoch 128/500\n",
            "8/8 [==============================] - 0s 26ms/step - loss: 1.0716 - val_loss: 0.8310\n",
            "Epoch 129/500\n",
            "8/8 [==============================] - 0s 20ms/step - loss: 1.0407 - val_loss: 0.8437\n",
            "Epoch 130/500\n",
            "8/8 [==============================] - 0s 24ms/step - loss: 1.0550 - val_loss: 0.8159\n",
            "Epoch 131/500\n",
            "8/8 [==============================] - 0s 19ms/step - loss: 1.0419 - val_loss: 0.8380\n",
            "Epoch 132/500\n",
            "8/8 [==============================] - 0s 23ms/step - loss: 1.0276 - val_loss: 0.7924\n",
            "Epoch 133/500\n",
            "8/8 [==============================] - 0s 20ms/step - loss: 1.0276 - val_loss: 0.8163\n",
            "Epoch 134/500\n",
            "8/8 [==============================] - 0s 19ms/step - loss: 1.0139 - val_loss: 0.8295\n",
            "Epoch 135/500\n",
            "8/8 [==============================] - 0s 23ms/step - loss: 0.9975 - val_loss: 0.7863\n",
            "Epoch 136/500\n",
            "8/8 [==============================] - 0s 23ms/step - loss: 0.9968 - val_loss: 0.7852\n",
            "Epoch 137/500\n",
            "8/8 [==============================] - 0s 19ms/step - loss: 0.9745 - val_loss: 0.7854\n",
            "Epoch 138/500\n",
            "8/8 [==============================] - 0s 22ms/step - loss: 0.9820 - val_loss: 0.8030\n",
            "Epoch 139/500\n",
            "8/8 [==============================] - 0s 23ms/step - loss: 0.9710 - val_loss: 0.7848\n",
            "Epoch 140/500\n",
            "8/8 [==============================] - 0s 23ms/step - loss: 0.9835 - val_loss: 0.7413\n",
            "Epoch 141/500\n",
            "8/8 [==============================] - 0s 19ms/step - loss: 0.9771 - val_loss: 0.7472\n",
            "Epoch 142/500\n",
            "8/8 [==============================] - 0s 19ms/step - loss: 0.9800 - val_loss: 0.7544\n",
            "Epoch 143/500\n",
            "8/8 [==============================] - 0s 22ms/step - loss: 0.9554 - val_loss: 0.7400\n",
            "Epoch 144/500\n",
            "8/8 [==============================] - 0s 23ms/step - loss: 0.9584 - val_loss: 0.7112\n",
            "Epoch 145/500\n",
            "8/8 [==============================] - 0s 19ms/step - loss: 0.9554 - val_loss: 0.7544\n",
            "Epoch 146/500\n",
            "8/8 [==============================] - 0s 19ms/step - loss: 0.9437 - val_loss: 0.7224\n",
            "Epoch 147/500\n",
            "8/8 [==============================] - 0s 20ms/step - loss: 0.9454 - val_loss: 0.7126\n",
            "Epoch 148/500\n",
            "8/8 [==============================] - 0s 22ms/step - loss: 0.9385 - val_loss: 0.7005\n",
            "Epoch 149/500\n",
            "8/8 [==============================] - 0s 19ms/step - loss: 0.9093 - val_loss: 0.7252\n",
            "Epoch 150/500\n",
            "8/8 [==============================] - 0s 20ms/step - loss: 0.9209 - val_loss: 0.7122\n",
            "Epoch 151/500\n",
            "8/8 [==============================] - 0s 20ms/step - loss: 0.9213 - val_loss: 0.7065\n",
            "Epoch 152/500\n",
            "8/8 [==============================] - 0s 25ms/step - loss: 0.9138 - val_loss: 0.7001\n",
            "Epoch 153/500\n",
            "8/8 [==============================] - 0s 23ms/step - loss: 0.9218 - val_loss: 0.6855\n",
            "Epoch 154/500\n",
            "8/8 [==============================] - 0s 26ms/step - loss: 0.9058 - val_loss: 0.6623\n",
            "Epoch 155/500\n",
            "8/8 [==============================] - 0s 21ms/step - loss: 0.8968 - val_loss: 0.6929\n",
            "Epoch 156/500\n",
            "8/8 [==============================] - 0s 21ms/step - loss: 0.9044 - val_loss: 0.7029\n",
            "Epoch 157/500\n",
            "8/8 [==============================] - 0s 19ms/step - loss: 0.8949 - val_loss: 0.6640\n",
            "Epoch 158/500\n",
            "8/8 [==============================] - 0s 22ms/step - loss: 0.8912 - val_loss: 0.6481\n",
            "Epoch 159/500\n",
            "8/8 [==============================] - 0s 21ms/step - loss: 0.8747 - val_loss: 0.6671\n",
            "Epoch 160/500\n",
            "8/8 [==============================] - 0s 21ms/step - loss: 0.8693 - val_loss: 0.6726\n",
            "Epoch 161/500\n",
            "8/8 [==============================] - 0s 20ms/step - loss: 0.8625 - val_loss: 0.6825\n",
            "Epoch 162/500\n",
            "8/8 [==============================] - 0s 24ms/step - loss: 0.8802 - val_loss: 0.6438\n",
            "Epoch 163/500\n",
            "8/8 [==============================] - 0s 24ms/step - loss: 0.8728 - val_loss: 0.6304\n",
            "Epoch 164/500\n",
            "8/8 [==============================] - 0s 27ms/step - loss: 0.8647 - val_loss: 0.6228\n",
            "Epoch 165/500\n",
            "8/8 [==============================] - 0s 29ms/step - loss: 0.8669 - val_loss: 0.6036\n",
            "Epoch 166/500\n",
            "8/8 [==============================] - 0s 20ms/step - loss: 0.8498 - val_loss: 0.6415\n",
            "Epoch 167/500\n",
            "8/8 [==============================] - 0s 20ms/step - loss: 0.8510 - val_loss: 0.6235\n",
            "Epoch 168/500\n",
            "8/8 [==============================] - 0s 21ms/step - loss: 0.8396 - val_loss: 0.6185\n",
            "Epoch 169/500\n",
            "8/8 [==============================] - 0s 22ms/step - loss: 0.8414 - val_loss: 0.6241\n",
            "Epoch 170/500\n",
            "8/8 [==============================] - 0s 19ms/step - loss: 0.8400 - val_loss: 0.6274\n",
            "Epoch 171/500\n",
            "8/8 [==============================] - 0s 22ms/step - loss: 0.8261 - val_loss: 0.5855\n",
            "Epoch 172/500\n",
            "8/8 [==============================] - 0s 19ms/step - loss: 0.8204 - val_loss: 0.6223\n",
            "Epoch 173/500\n",
            "8/8 [==============================] - 0s 19ms/step - loss: 0.8192 - val_loss: 0.5909\n",
            "Epoch 174/500\n",
            "8/8 [==============================] - 0s 20ms/step - loss: 0.8115 - val_loss: 0.6063\n",
            "Epoch 175/500\n",
            "8/8 [==============================] - 0s 19ms/step - loss: 0.8142 - val_loss: 0.6036\n",
            "Epoch 176/500\n",
            "8/8 [==============================] - 0s 19ms/step - loss: 0.8074 - val_loss: 0.5974\n",
            "Epoch 177/500\n",
            "8/8 [==============================] - 0s 23ms/step - loss: 0.8149 - val_loss: 0.5719\n",
            "Epoch 178/500\n",
            "8/8 [==============================] - 0s 19ms/step - loss: 0.8180 - val_loss: 0.5855\n",
            "Epoch 179/500\n",
            "8/8 [==============================] - 0s 19ms/step - loss: 0.8011 - val_loss: 0.5750\n",
            "Epoch 180/500\n",
            "8/8 [==============================] - 0s 19ms/step - loss: 0.7885 - val_loss: 0.5820\n",
            "Epoch 181/500\n",
            "8/8 [==============================] - 0s 23ms/step - loss: 0.7891 - val_loss: 0.5489\n",
            "Epoch 182/500\n",
            "8/8 [==============================] - 0s 19ms/step - loss: 0.7795 - val_loss: 0.5594\n",
            "Epoch 183/500\n",
            "8/8 [==============================] - 0s 22ms/step - loss: 0.7759 - val_loss: 0.5421\n",
            "Epoch 184/500\n",
            "8/8 [==============================] - 0s 21ms/step - loss: 0.7861 - val_loss: 0.5491\n",
            "Epoch 185/500\n",
            "8/8 [==============================] - 0s 19ms/step - loss: 0.7732 - val_loss: 0.5537\n",
            "Epoch 186/500\n",
            "8/8 [==============================] - 0s 23ms/step - loss: 0.7691 - val_loss: 0.5306\n",
            "Epoch 187/500\n",
            "8/8 [==============================] - 0s 19ms/step - loss: 0.7797 - val_loss: 0.5447\n",
            "Epoch 188/500\n",
            "8/8 [==============================] - 0s 19ms/step - loss: 0.7616 - val_loss: 0.5721\n",
            "Epoch 189/500\n",
            "8/8 [==============================] - 0s 19ms/step - loss: 0.7559 - val_loss: 0.5435\n",
            "Epoch 190/500\n",
            "8/8 [==============================] - 0s 20ms/step - loss: 0.7612 - val_loss: 0.5439\n",
            "Epoch 191/500\n",
            "8/8 [==============================] - 0s 19ms/step - loss: 0.7500 - val_loss: 0.5440\n",
            "Epoch 192/500\n",
            "8/8 [==============================] - 0s 19ms/step - loss: 0.7567 - val_loss: 0.5522\n",
            "Epoch 193/500\n",
            "8/8 [==============================] - 0s 22ms/step - loss: 0.7503 - val_loss: 0.5181\n",
            "Epoch 194/500\n",
            "8/8 [==============================] - 0s 20ms/step - loss: 0.7361 - val_loss: 0.5394\n",
            "Epoch 195/500\n",
            "8/8 [==============================] - 0s 19ms/step - loss: 0.7432 - val_loss: 0.5296\n",
            "Epoch 196/500\n",
            "8/8 [==============================] - 0s 23ms/step - loss: 0.7399 - val_loss: 0.4977\n",
            "Epoch 197/500\n",
            "8/8 [==============================] - 0s 19ms/step - loss: 0.7300 - val_loss: 0.5124\n",
            "Epoch 198/500\n",
            "8/8 [==============================] - 0s 19ms/step - loss: 0.7306 - val_loss: 0.5019\n",
            "Epoch 199/500\n",
            "8/8 [==============================] - 0s 23ms/step - loss: 0.7286 - val_loss: 0.4964\n",
            "Epoch 200/500\n",
            "8/8 [==============================] - 0s 23ms/step - loss: 0.7394 - val_loss: 0.4898\n",
            "Epoch 201/500\n",
            "8/8 [==============================] - 0s 19ms/step - loss: 0.7250 - val_loss: 0.5067\n",
            "Epoch 202/500\n",
            "8/8 [==============================] - 0s 21ms/step - loss: 0.7189 - val_loss: 0.4974\n",
            "Epoch 203/500\n",
            "8/8 [==============================] - 0s 23ms/step - loss: 0.7253 - val_loss: 0.4606\n",
            "Epoch 204/500\n",
            "8/8 [==============================] - 0s 19ms/step - loss: 0.7226 - val_loss: 0.5145\n",
            "Epoch 205/500\n",
            "8/8 [==============================] - 0s 18ms/step - loss: 0.7193 - val_loss: 0.5087\n",
            "Epoch 206/500\n",
            "8/8 [==============================] - 0s 18ms/step - loss: 0.7115 - val_loss: 0.4616\n",
            "Epoch 207/500\n",
            "8/8 [==============================] - 0s 19ms/step - loss: 0.7104 - val_loss: 0.4901\n",
            "Epoch 208/500\n",
            "8/8 [==============================] - 0s 19ms/step - loss: 0.6964 - val_loss: 0.4766\n",
            "Epoch 209/500\n",
            "8/8 [==============================] - 0s 18ms/step - loss: 0.6950 - val_loss: 0.4723\n",
            "Epoch 210/500\n",
            "8/8 [==============================] - 0s 18ms/step - loss: 0.6969 - val_loss: 0.4643\n",
            "Epoch 211/500\n",
            "8/8 [==============================] - 0s 19ms/step - loss: 0.6834 - val_loss: 0.4852\n",
            "Epoch 212/500\n",
            "8/8 [==============================] - 0s 19ms/step - loss: 0.6956 - val_loss: 0.4992\n",
            "Epoch 213/500\n",
            "8/8 [==============================] - 0s 21ms/step - loss: 0.6904 - val_loss: 0.4786\n",
            "Epoch 214/500\n",
            "8/8 [==============================] - 0s 25ms/step - loss: 0.6858 - val_loss: 0.4585\n",
            "Epoch 215/500\n",
            "8/8 [==============================] - 0s 21ms/step - loss: 0.6773 - val_loss: 0.4679\n",
            "Epoch 216/500\n",
            "8/8 [==============================] - 0s 24ms/step - loss: 0.6758 - val_loss: 0.4563\n",
            "Epoch 217/500\n",
            "8/8 [==============================] - 0s 25ms/step - loss: 0.6783 - val_loss: 0.4558\n",
            "Epoch 218/500\n",
            "8/8 [==============================] - 0s 21ms/step - loss: 0.6857 - val_loss: 0.4564\n",
            "Epoch 219/500\n",
            "8/8 [==============================] - 0s 24ms/step - loss: 0.6833 - val_loss: 0.4351\n",
            "Epoch 220/500\n",
            "8/8 [==============================] - 0s 22ms/step - loss: 0.6719 - val_loss: 0.4398\n",
            "Epoch 221/500\n",
            "8/8 [==============================] - 0s 19ms/step - loss: 0.6574 - val_loss: 0.4565\n",
            "Epoch 222/500\n",
            "8/8 [==============================] - 0s 19ms/step - loss: 0.6547 - val_loss: 0.4521\n",
            "Epoch 223/500\n",
            "8/8 [==============================] - 0s 22ms/step - loss: 0.6664 - val_loss: 0.4236\n",
            "Epoch 224/500\n",
            "8/8 [==============================] - 0s 19ms/step - loss: 0.6655 - val_loss: 0.4580\n",
            "Epoch 225/500\n",
            "8/8 [==============================] - 0s 19ms/step - loss: 0.6697 - val_loss: 0.4422\n",
            "Epoch 226/500\n",
            "8/8 [==============================] - 0s 19ms/step - loss: 0.6529 - val_loss: 0.4443\n",
            "Epoch 227/500\n",
            "8/8 [==============================] - 0s 23ms/step - loss: 0.6518 - val_loss: 0.4211\n",
            "Epoch 228/500\n",
            "8/8 [==============================] - 0s 21ms/step - loss: 0.6430 - val_loss: 0.4403\n",
            "Epoch 229/500\n",
            "8/8 [==============================] - 0s 20ms/step - loss: 0.6493 - val_loss: 0.4314\n",
            "Epoch 230/500\n",
            "8/8 [==============================] - 0s 20ms/step - loss: 0.6495 - val_loss: 0.4403\n",
            "Epoch 231/500\n",
            "8/8 [==============================] - 0s 21ms/step - loss: 0.6604 - val_loss: 0.4327\n",
            "Epoch 232/500\n",
            "8/8 [==============================] - 0s 19ms/step - loss: 0.6442 - val_loss: 0.4358\n",
            "Epoch 233/500\n",
            "8/8 [==============================] - 0s 23ms/step - loss: 0.6480 - val_loss: 0.4123\n",
            "Epoch 234/500\n",
            "8/8 [==============================] - 0s 19ms/step - loss: 0.6475 - val_loss: 0.4213\n",
            "Epoch 235/500\n",
            "8/8 [==============================] - 0s 18ms/step - loss: 0.6280 - val_loss: 0.4205\n",
            "Epoch 236/500\n",
            "8/8 [==============================] - 0s 19ms/step - loss: 0.6387 - val_loss: 0.4338\n",
            "Epoch 237/500\n",
            "8/8 [==============================] - 0s 22ms/step - loss: 0.6292 - val_loss: 0.4115\n",
            "Epoch 238/500\n",
            "8/8 [==============================] - 0s 19ms/step - loss: 0.6308 - val_loss: 0.4323\n",
            "Epoch 239/500\n",
            "8/8 [==============================] - 0s 19ms/step - loss: 0.6273 - val_loss: 0.4283\n",
            "Epoch 240/500\n",
            "8/8 [==============================] - 0s 19ms/step - loss: 0.6274 - val_loss: 0.4293\n",
            "Epoch 241/500\n",
            "8/8 [==============================] - 0s 19ms/step - loss: 0.6227 - val_loss: 0.4164\n",
            "Epoch 242/500\n",
            "8/8 [==============================] - 0s 22ms/step - loss: 0.6216 - val_loss: 0.4041\n",
            "Epoch 243/500\n",
            "8/8 [==============================] - 0s 19ms/step - loss: 0.6274 - val_loss: 0.4143\n",
            "Epoch 244/500\n",
            "8/8 [==============================] - 0s 25ms/step - loss: 0.6188 - val_loss: 0.4003\n",
            "Epoch 245/500\n",
            "8/8 [==============================] - 0s 25ms/step - loss: 0.6105 - val_loss: 0.3934\n",
            "Epoch 246/500\n",
            "8/8 [==============================] - 0s 25ms/step - loss: 0.6157 - val_loss: 0.3811\n",
            "Epoch 247/500\n",
            "8/8 [==============================] - 0s 21ms/step - loss: 0.6131 - val_loss: 0.3970\n",
            "Epoch 248/500\n",
            "8/8 [==============================] - 0s 20ms/step - loss: 0.5927 - val_loss: 0.4206\n",
            "Epoch 249/500\n",
            "8/8 [==============================] - 0s 19ms/step - loss: 0.6079 - val_loss: 0.4112\n",
            "Epoch 250/500\n",
            "8/8 [==============================] - 0s 19ms/step - loss: 0.6109 - val_loss: 0.4106\n",
            "Epoch 251/500\n",
            "8/8 [==============================] - 0s 21ms/step - loss: 0.6016 - val_loss: 0.3976\n",
            "Epoch 252/500\n",
            "8/8 [==============================] - 0s 21ms/step - loss: 0.6062 - val_loss: 0.3901\n",
            "Epoch 253/500\n",
            "8/8 [==============================] - 0s 22ms/step - loss: 0.5929 - val_loss: 0.3850\n",
            "Epoch 254/500\n",
            "8/8 [==============================] - 0s 19ms/step - loss: 0.6038 - val_loss: 0.3972\n",
            "Epoch 255/500\n",
            "8/8 [==============================] - 0s 20ms/step - loss: 0.5935 - val_loss: 0.3877\n",
            "Epoch 256/500\n",
            "8/8 [==============================] - 0s 19ms/step - loss: 0.5894 - val_loss: 0.3984\n",
            "Epoch 257/500\n",
            "8/8 [==============================] - 0s 19ms/step - loss: 0.5933 - val_loss: 0.3952\n",
            "Epoch 258/500\n",
            "8/8 [==============================] - 0s 19ms/step - loss: 0.5778 - val_loss: 0.3917\n",
            "Epoch 259/500\n",
            "8/8 [==============================] - 0s 22ms/step - loss: 0.5946 - val_loss: 0.3771\n",
            "Epoch 260/500\n",
            "8/8 [==============================] - 0s 19ms/step - loss: 0.5837 - val_loss: 0.3878\n",
            "Epoch 261/500\n",
            "8/8 [==============================] - 0s 23ms/step - loss: 0.5891 - val_loss: 0.3640\n",
            "Epoch 262/500\n",
            "8/8 [==============================] - 0s 20ms/step - loss: 0.5855 - val_loss: 0.3669\n",
            "Epoch 263/500\n",
            "8/8 [==============================] - 0s 22ms/step - loss: 0.5849 - val_loss: 0.3610\n",
            "Epoch 264/500\n",
            "8/8 [==============================] - 0s 24ms/step - loss: 0.5894 - val_loss: 0.3640\n",
            "Epoch 265/500\n",
            "8/8 [==============================] - 0s 19ms/step - loss: 0.5737 - val_loss: 0.3754\n",
            "Epoch 266/500\n",
            "8/8 [==============================] - 0s 19ms/step - loss: 0.5802 - val_loss: 0.3702\n",
            "Epoch 267/500\n",
            "8/8 [==============================] - 0s 19ms/step - loss: 0.5824 - val_loss: 0.3655\n",
            "Epoch 268/500\n",
            "8/8 [==============================] - 0s 19ms/step - loss: 0.5761 - val_loss: 0.3847\n",
            "Epoch 269/500\n",
            "8/8 [==============================] - 0s 18ms/step - loss: 0.5637 - val_loss: 0.3657\n",
            "Epoch 270/500\n",
            "8/8 [==============================] - 0s 19ms/step - loss: 0.5686 - val_loss: 0.3676\n",
            "Epoch 271/500\n",
            "8/8 [==============================] - 0s 18ms/step - loss: 0.5642 - val_loss: 0.3717\n",
            "Epoch 272/500\n",
            "8/8 [==============================] - 0s 19ms/step - loss: 0.5641 - val_loss: 0.3614\n",
            "Epoch 273/500\n",
            "8/8 [==============================] - 0s 22ms/step - loss: 0.5701 - val_loss: 0.3468\n",
            "Epoch 274/500\n",
            "8/8 [==============================] - 0s 22ms/step - loss: 0.5682 - val_loss: 0.3485\n",
            "Epoch 275/500\n",
            "8/8 [==============================] - 0s 21ms/step - loss: 0.5512 - val_loss: 0.3589\n",
            "Epoch 276/500\n",
            "8/8 [==============================] - 0s 20ms/step - loss: 0.5552 - val_loss: 0.3571\n",
            "Epoch 277/500\n",
            "8/8 [==============================] - 0s 20ms/step - loss: 0.5559 - val_loss: 0.3698\n",
            "Epoch 278/500\n",
            "8/8 [==============================] - 0s 19ms/step - loss: 0.5528 - val_loss: 0.3743\n",
            "Epoch 279/500\n",
            "8/8 [==============================] - 0s 19ms/step - loss: 0.5587 - val_loss: 0.3662\n",
            "Epoch 280/500\n",
            "8/8 [==============================] - 0s 19ms/step - loss: 0.5573 - val_loss: 0.3625\n",
            "Epoch 281/500\n",
            "8/8 [==============================] - 0s 19ms/step - loss: 0.5354 - val_loss: 0.3555\n",
            "Epoch 282/500\n",
            "8/8 [==============================] - 0s 19ms/step - loss: 0.5420 - val_loss: 0.3832\n",
            "Epoch 283/500\n",
            "8/8 [==============================] - 0s 19ms/step - loss: 0.5415 - val_loss: 0.3619\n",
            "Epoch 284/500\n",
            "8/8 [==============================] - 0s 19ms/step - loss: 0.5475 - val_loss: 0.3539\n",
            "Epoch 285/500\n",
            "8/8 [==============================] - 0s 19ms/step - loss: 0.5456 - val_loss: 0.3603\n",
            "Epoch 286/500\n",
            "8/8 [==============================] - 0s 18ms/step - loss: 0.5452 - val_loss: 0.3556\n",
            "Epoch 287/500\n",
            "8/8 [==============================] - 0s 23ms/step - loss: 0.5451 - val_loss: 0.3429\n",
            "Epoch 288/500\n",
            "8/8 [==============================] - 0s 23ms/step - loss: 0.5450 - val_loss: 0.3398\n",
            "Epoch 289/500\n",
            "8/8 [==============================] - 0s 27ms/step - loss: 0.5312 - val_loss: 0.3129\n",
            "Epoch 290/500\n",
            "8/8 [==============================] - 0s 19ms/step - loss: 0.5431 - val_loss: 0.3261\n",
            "Epoch 291/500\n",
            "8/8 [==============================] - 0s 19ms/step - loss: 0.5265 - val_loss: 0.3602\n",
            "Epoch 292/500\n",
            "8/8 [==============================] - 0s 19ms/step - loss: 0.5296 - val_loss: 0.3466\n",
            "Epoch 293/500\n",
            "8/8 [==============================] - 0s 22ms/step - loss: 0.5310 - val_loss: 0.3461\n",
            "Epoch 294/500\n",
            "8/8 [==============================] - 0s 21ms/step - loss: 0.5393 - val_loss: 0.3487\n",
            "Epoch 295/500\n",
            "8/8 [==============================] - 0s 21ms/step - loss: 0.5328 - val_loss: 0.3299\n",
            "Epoch 296/500\n",
            "8/8 [==============================] - 0s 20ms/step - loss: 0.5331 - val_loss: 0.3353\n",
            "Epoch 297/500\n",
            "8/8 [==============================] - 0s 21ms/step - loss: 0.5264 - val_loss: 0.3298\n",
            "Epoch 298/500\n",
            "8/8 [==============================] - 0s 25ms/step - loss: 0.5254 - val_loss: 0.3128\n",
            "Epoch 299/500\n",
            "8/8 [==============================] - 0s 20ms/step - loss: 0.5204 - val_loss: 0.3238\n",
            "Epoch 300/500\n",
            "8/8 [==============================] - 0s 21ms/step - loss: 0.5200 - val_loss: 0.3211\n",
            "Epoch 301/500\n",
            "8/8 [==============================] - 0s 19ms/step - loss: 0.5289 - val_loss: 0.3232\n",
            "Epoch 302/500\n",
            "8/8 [==============================] - 0s 19ms/step - loss: 0.5128 - val_loss: 0.3304\n",
            "Epoch 303/500\n",
            "8/8 [==============================] - 0s 20ms/step - loss: 0.5076 - val_loss: 0.3337\n",
            "Epoch 304/500\n",
            "8/8 [==============================] - 0s 19ms/step - loss: 0.5133 - val_loss: 0.3146\n",
            "Epoch 305/500\n",
            "8/8 [==============================] - 0s 19ms/step - loss: 0.5205 - val_loss: 0.3146\n",
            "Epoch 306/500\n",
            "8/8 [==============================] - 0s 19ms/step - loss: 0.5245 - val_loss: 0.3203\n",
            "Epoch 307/500\n",
            "8/8 [==============================] - 0s 19ms/step - loss: 0.5154 - val_loss: 0.3272\n",
            "Epoch 308/500\n",
            "8/8 [==============================] - 0s 20ms/step - loss: 0.5125 - val_loss: 0.3229\n",
            "Epoch 309/500\n",
            "8/8 [==============================] - 0s 19ms/step - loss: 0.5055 - val_loss: 0.3159\n",
            "Epoch 310/500\n",
            "8/8 [==============================] - 0s 23ms/step - loss: 0.5078 - val_loss: 0.3039\n",
            "Epoch 311/500\n",
            "8/8 [==============================] - 0s 19ms/step - loss: 0.5126 - val_loss: 0.3126\n",
            "Epoch 312/500\n",
            "8/8 [==============================] - 0s 19ms/step - loss: 0.5071 - val_loss: 0.3135\n",
            "Epoch 313/500\n",
            "8/8 [==============================] - 0s 20ms/step - loss: 0.5080 - val_loss: 0.3188\n",
            "Epoch 314/500\n",
            "8/8 [==============================] - 0s 20ms/step - loss: 0.5004 - val_loss: 0.3224\n",
            "Epoch 315/500\n",
            "8/8 [==============================] - 0s 19ms/step - loss: 0.5122 - val_loss: 0.3200\n",
            "Epoch 316/500\n",
            "8/8 [==============================] - 0s 19ms/step - loss: 0.4981 - val_loss: 0.3301\n",
            "Epoch 317/500\n",
            "8/8 [==============================] - 0s 19ms/step - loss: 0.5110 - val_loss: 0.3118\n",
            "Epoch 318/500\n",
            "8/8 [==============================] - 0s 23ms/step - loss: 0.5003 - val_loss: 0.2993\n",
            "Epoch 319/500\n",
            "8/8 [==============================] - 0s 23ms/step - loss: 0.4971 - val_loss: 0.2851\n",
            "Epoch 320/500\n",
            "8/8 [==============================] - 0s 20ms/step - loss: 0.4961 - val_loss: 0.3059\n",
            "Epoch 321/500\n",
            "8/8 [==============================] - 0s 19ms/step - loss: 0.4908 - val_loss: 0.3170\n",
            "Epoch 322/500\n",
            "8/8 [==============================] - 0s 19ms/step - loss: 0.4906 - val_loss: 0.3314\n",
            "Epoch 323/500\n",
            "8/8 [==============================] - 0s 19ms/step - loss: 0.4947 - val_loss: 0.3147\n",
            "Epoch 324/500\n",
            "8/8 [==============================] - 0s 19ms/step - loss: 0.4840 - val_loss: 0.3130\n",
            "Epoch 325/500\n",
            "8/8 [==============================] - 0s 19ms/step - loss: 0.5006 - val_loss: 0.3170\n",
            "Epoch 326/500\n",
            "8/8 [==============================] - 0s 19ms/step - loss: 0.4896 - val_loss: 0.2920\n",
            "Epoch 327/500\n",
            "8/8 [==============================] - 0s 20ms/step - loss: 0.4799 - val_loss: 0.3388\n",
            "Epoch 328/500\n",
            "8/8 [==============================] - 0s 19ms/step - loss: 0.4895 - val_loss: 0.3215\n",
            "Epoch 329/500\n",
            "8/8 [==============================] - 0s 19ms/step - loss: 0.4774 - val_loss: 0.2918\n",
            "Epoch 330/500\n",
            "8/8 [==============================] - 0s 19ms/step - loss: 0.4810 - val_loss: 0.2963\n",
            "Epoch 331/500\n",
            "8/8 [==============================] - 0s 19ms/step - loss: 0.4881 - val_loss: 0.3113\n",
            "Epoch 332/500\n",
            "8/8 [==============================] - 0s 19ms/step - loss: 0.4760 - val_loss: 0.3087\n",
            "Epoch 333/500\n",
            "8/8 [==============================] - 0s 19ms/step - loss: 0.4857 - val_loss: 0.2962\n",
            "Epoch 334/500\n",
            "8/8 [==============================] - 0s 19ms/step - loss: 0.4756 - val_loss: 0.2995\n",
            "Epoch 335/500\n",
            "8/8 [==============================] - 0s 20ms/step - loss: 0.4762 - val_loss: 0.2985\n",
            "Epoch 336/500\n",
            "8/8 [==============================] - 0s 19ms/step - loss: 0.4696 - val_loss: 0.2941\n",
            "Epoch 337/500\n",
            "8/8 [==============================] - 0s 19ms/step - loss: 0.4747 - val_loss: 0.2947\n",
            "Epoch 338/500\n",
            "8/8 [==============================] - 0s 20ms/step - loss: 0.4755 - val_loss: 0.3108\n",
            "Epoch 339/500\n",
            "8/8 [==============================] - 0s 20ms/step - loss: 0.4719 - val_loss: 0.2927\n",
            "Epoch 340/500\n",
            "8/8 [==============================] - 0s 20ms/step - loss: 0.4779 - val_loss: 0.2970\n",
            "Epoch 341/500\n",
            "8/8 [==============================] - 0s 19ms/step - loss: 0.4752 - val_loss: 0.3021\n",
            "Epoch 342/500\n",
            "8/8 [==============================] - 0s 19ms/step - loss: 0.4672 - val_loss: 0.3108\n",
            "Epoch 343/500\n",
            "8/8 [==============================] - 0s 23ms/step - loss: 0.4722 - val_loss: 0.2686\n",
            "Epoch 344/500\n",
            "8/8 [==============================] - 0s 19ms/step - loss: 0.4690 - val_loss: 0.2807\n",
            "Epoch 345/500\n",
            "8/8 [==============================] - 0s 21ms/step - loss: 0.4645 - val_loss: 0.2918\n",
            "Epoch 346/500\n",
            "8/8 [==============================] - 0s 19ms/step - loss: 0.4617 - val_loss: 0.2933\n",
            "Epoch 347/500\n",
            "8/8 [==============================] - 0s 22ms/step - loss: 0.4626 - val_loss: 0.2985\n",
            "Epoch 348/500\n",
            "8/8 [==============================] - 0s 21ms/step - loss: 0.4702 - val_loss: 0.2737\n",
            "Epoch 349/500\n",
            "8/8 [==============================] - 0s 20ms/step - loss: 0.4596 - val_loss: 0.2967\n",
            "Epoch 350/500\n",
            "8/8 [==============================] - 0s 22ms/step - loss: 0.4634 - val_loss: 0.2900\n",
            "Epoch 351/500\n",
            "8/8 [==============================] - 0s 19ms/step - loss: 0.4589 - val_loss: 0.2970\n",
            "Epoch 352/500\n",
            "8/8 [==============================] - 0s 19ms/step - loss: 0.4669 - val_loss: 0.2763\n",
            "Epoch 353/500\n",
            "8/8 [==============================] - 0s 19ms/step - loss: 0.4555 - val_loss: 0.2731\n",
            "Epoch 354/500\n",
            "8/8 [==============================] - 0s 19ms/step - loss: 0.4536 - val_loss: 0.2898\n",
            "Epoch 355/500\n",
            "8/8 [==============================] - 0s 19ms/step - loss: 0.4695 - val_loss: 0.2765\n",
            "Epoch 356/500\n",
            "8/8 [==============================] - 0s 19ms/step - loss: 0.4606 - val_loss: 0.2952\n",
            "Epoch 357/500\n",
            "8/8 [==============================] - 0s 20ms/step - loss: 0.4580 - val_loss: 0.2857\n",
            "Epoch 358/500\n",
            "8/8 [==============================] - 0s 21ms/step - loss: 0.4637 - val_loss: 0.2852\n",
            "Epoch 359/500\n",
            "8/8 [==============================] - 0s 20ms/step - loss: 0.4641 - val_loss: 0.2877\n",
            "Epoch 360/500\n",
            "8/8 [==============================] - 0s 19ms/step - loss: 0.4606 - val_loss: 0.2914\n",
            "Epoch 361/500\n",
            "8/8 [==============================] - 0s 22ms/step - loss: 0.4537 - val_loss: 0.2848\n",
            "Epoch 362/500\n",
            "8/8 [==============================] - 0s 24ms/step - loss: 0.4498 - val_loss: 0.2765\n",
            "Epoch 363/500\n",
            "8/8 [==============================] - 0s 20ms/step - loss: 0.4503 - val_loss: 0.2923\n",
            "Epoch 364/500\n",
            "8/8 [==============================] - 0s 24ms/step - loss: 0.4484 - val_loss: 0.2662\n",
            "Epoch 365/500\n",
            "8/8 [==============================] - 0s 25ms/step - loss: 0.4501 - val_loss: 0.2649\n",
            "Epoch 366/500\n",
            "8/8 [==============================] - 0s 23ms/step - loss: 0.4481 - val_loss: 0.2652\n",
            "Epoch 367/500\n",
            "8/8 [==============================] - 0s 21ms/step - loss: 0.4485 - val_loss: 0.2793\n",
            "Epoch 368/500\n",
            "8/8 [==============================] - 0s 20ms/step - loss: 0.4493 - val_loss: 0.2727\n",
            "Epoch 369/500\n",
            "8/8 [==============================] - 0s 19ms/step - loss: 0.4418 - val_loss: 0.2813\n",
            "Epoch 370/500\n",
            "8/8 [==============================] - 0s 19ms/step - loss: 0.4434 - val_loss: 0.2826\n",
            "Epoch 371/500\n",
            "8/8 [==============================] - 0s 19ms/step - loss: 0.4348 - val_loss: 0.2872\n",
            "Epoch 372/500\n",
            "8/8 [==============================] - 0s 18ms/step - loss: 0.4327 - val_loss: 0.2876\n",
            "Epoch 373/500\n",
            "8/8 [==============================] - 0s 20ms/step - loss: 0.4408 - val_loss: 0.2875\n",
            "Epoch 374/500\n",
            "8/8 [==============================] - 0s 19ms/step - loss: 0.4407 - val_loss: 0.2673\n",
            "Epoch 375/500\n",
            "8/8 [==============================] - 0s 18ms/step - loss: 0.4418 - val_loss: 0.2679\n",
            "Epoch 376/500\n",
            "8/8 [==============================] - 0s 18ms/step - loss: 0.4341 - val_loss: 0.2832\n",
            "Epoch 377/500\n",
            "8/8 [==============================] - 0s 23ms/step - loss: 0.4312 - val_loss: 0.2565\n",
            "Epoch 378/500\n",
            "8/8 [==============================] - 0s 19ms/step - loss: 0.4392 - val_loss: 0.2613\n",
            "Epoch 379/500\n",
            "8/8 [==============================] - 0s 19ms/step - loss: 0.4284 - val_loss: 0.2727\n",
            "Epoch 380/500\n",
            "8/8 [==============================] - 0s 18ms/step - loss: 0.4412 - val_loss: 0.2705\n",
            "Epoch 381/500\n",
            "8/8 [==============================] - 0s 23ms/step - loss: 0.4378 - val_loss: 0.2535\n",
            "Epoch 382/500\n",
            "8/8 [==============================] - 0s 19ms/step - loss: 0.4389 - val_loss: 0.2874\n",
            "Epoch 383/500\n",
            "8/8 [==============================] - 0s 19ms/step - loss: 0.4341 - val_loss: 0.2738\n",
            "Epoch 384/500\n",
            "8/8 [==============================] - 0s 19ms/step - loss: 0.4366 - val_loss: 0.2663\n",
            "Epoch 385/500\n",
            "8/8 [==============================] - 0s 22ms/step - loss: 0.4344 - val_loss: 0.2501\n",
            "Epoch 386/500\n",
            "8/8 [==============================] - 0s 19ms/step - loss: 0.4191 - val_loss: 0.2627\n",
            "Epoch 387/500\n",
            "8/8 [==============================] - 0s 18ms/step - loss: 0.4315 - val_loss: 0.2577\n",
            "Epoch 388/500\n",
            "8/8 [==============================] - 0s 18ms/step - loss: 0.4260 - val_loss: 0.2731\n",
            "Epoch 389/500\n",
            "8/8 [==============================] - 0s 18ms/step - loss: 0.4357 - val_loss: 0.2734\n",
            "Epoch 390/500\n",
            "8/8 [==============================] - 0s 18ms/step - loss: 0.4207 - val_loss: 0.2646\n",
            "Epoch 391/500\n",
            "8/8 [==============================] - 0s 18ms/step - loss: 0.4305 - val_loss: 0.2661\n",
            "Epoch 392/500\n",
            "8/8 [==============================] - 0s 18ms/step - loss: 0.4233 - val_loss: 0.2625\n",
            "Epoch 393/500\n",
            "8/8 [==============================] - 0s 20ms/step - loss: 0.4207 - val_loss: 0.2647\n",
            "Epoch 394/500\n",
            "8/8 [==============================] - 0s 19ms/step - loss: 0.4274 - val_loss: 0.2734\n",
            "Epoch 395/500\n",
            "8/8 [==============================] - 0s 19ms/step - loss: 0.4214 - val_loss: 0.2626\n",
            "Epoch 396/500\n",
            "8/8 [==============================] - 0s 19ms/step - loss: 0.4326 - val_loss: 0.2616\n"
          ],
          "name": "stdout"
        }
      ]
    },
    {
      "cell_type": "code",
      "metadata": {
        "id": "P9mA-3yfS0Yq",
        "colab_type": "code",
        "colab": {
          "base_uri": "https://localhost:8080/",
          "height": 454
        },
        "outputId": "b3c9588a-aad8-413b-f5da-df53c76945e8"
      },
      "source": [
        "plt.plot(history.epoch ,history.history['val_loss'], label='Validation loss')\n",
        "plt.plot(history.epoch, history.history['loss'], label='Training loss')\n",
        "plt.xlabel('Epochs')\n",
        "plt.ylabel('Loss')\n",
        "plt.style.use('default')\n",
        "plt.legend()\n",
        "plt.show()"
      ],
      "execution_count": 35,
      "outputs": [
        {
          "output_type": "display_data",
          "data": {
            "image/png": "[encoded data removed]",
            "text/plain": [
              "<Figure size 640x480 with 1 Axes>"
            ]
          },
          "metadata": {
            "tags": []
          }
        }
      ]
    },
    {
      "cell_type": "markdown",
      "metadata": {
        "id": "PJg1DxPoIcCe",
        "colab_type": "text"
      },
      "source": [
        "# 2. Generate text"
      ]
    },
    {
      "cell_type": "code",
      "metadata": {
        "id": "bsmIXyrLSoLz",
        "colab_type": "code",
        "colab": {}
      },
      "source": [
        "def generate_text(model, start_string, temperature, length):\n",
        "  # 평가 단계 (학습된 모델을 사용하여 텍스트 생성)\n",
        "\n",
        "  # 시작 문자열을 숫자로 변환(벡터화)\n",
        "  try:\n",
        "    input_eval = [char2idx[s] for s in start_string]\n",
        "    input_eval = tf.expand_dims(input_eval, 0)\n",
        "  except:\n",
        "    print(\"protein이 아닌 문자열이 포함되었습니다.\")\n",
        "    return 0\n",
        "\n",
        "  # 결과를 저장할 빈 문자열\n",
        "  text_generated = []\n",
        "\n",
        "  # 의외의 효과를 만드는 온도 상수 추가\n",
        "  temperature = temperature\n",
        "\n",
        "  # 여기에서 배치 크기 == 1\n",
        "  model.reset_states()\n",
        "  num = 0\n",
        "  while num < length:\n",
        "      predictions = model(input_eval)\n",
        "      # 배치 차원 제거\n",
        "      predictions = tf.squeeze(predictions, 0)\n",
        "\n",
        "      # 범주형 분포를 사용하여 모델에서 리턴한 단어 예측\n",
        "      predictions = predictions / temperature\n",
        "      predicted_id = tf.random.categorical(predictions, num_samples=1)[-1,0].numpy()\n",
        "\n",
        "\n",
        "      # 예측된 단어를 다음 입력으로 모델에 전달\n",
        "      # 이전 은닉 상태와 함께\n",
        "      input_eval = tf.expand_dims([predicted_id], 0)\n",
        "      # print(idx2char[predicted_id])\n",
        "      text_generated.append(idx2char[predicted_id])\n",
        "      \n",
        "      # 추가부분 : \\n을 만나면 break\n",
        "      if predicted_id == 0:\n",
        "        num = num + 1\n",
        "      printProgress(num,length, 'Progress=', 'Completed', 1, 50)\n",
        "  result = []\n",
        "  temp = []\n",
        "  for item in text_generated:\n",
        "    temp.append(item)\n",
        "    if item == '\\n':\n",
        "      result.append(''.join(temp))\n",
        "      temp = []\n",
        "  return result"
      ],
      "execution_count": 0,
      "outputs": []
    },
    {
      "cell_type": "code",
      "metadata": {
        "id": "0lKWehSLS6ae",
        "colab_type": "code",
        "colab": {}
      },
      "source": [
        "def result_csv_generator(model, seed, temperature, file_name, length):\n",
        "  result = []\n",
        "  temp = generate_text(model, seed, temperature, length)\n",
        "  csv = open('result_{}.csv'.format(file_name), 'w')\n",
        "  i = 0\n",
        "  for item in temp:\n",
        "    csv.write('>{}\\n'.format(i))\n",
        "    i = i + 1\n",
        "    csv.write('{}'.format(item))\n",
        "\n",
        "  csv.close()"
      ],
      "execution_count": 0,
      "outputs": []
    },
    {
      "cell_type": "code",
      "metadata": {
        "id": "rfn8iIoYsfFv",
        "colab_type": "code",
        "colab": {}
      },
      "source": [
        "model = build_model(vocab_size, embedding_dim, rnn_units, 1, file_name)\n",
        "model.load_weights('/content/bestmodel/Model_{}'.format(file_name))\n",
        "model.build(tf.TensorShape([1, None]))"
      ],
      "execution_count": 0,
      "outputs": []
    },
    {
      "cell_type": "code",
      "metadata": {
        "id": "7P2h_L-AtbYR",
        "colab_type": "code",
        "outputId": "7577e76b-4bd1-4dd2-8e97-4f9b3cb2e32e",
        "colab": {
          "base_uri": "https://localhost:8080/",
          "height": 34
        }
      },
      "source": [
        "result_csv_generator(model, \"FAL\", 0.1, file_name, 1000)"
      ],
      "execution_count": 39,
      "outputs": [
        {
          "output_type": "stream",
          "text": [
            "Progress= |##################################################| 100.0% Completed\n"
          ],
          "name": "stdout"
        }
      ]
    },
    {
      "cell_type": "markdown",
      "metadata": {
        "id": "M8iJ66owIrCZ",
        "colab_type": "text"
      },
      "source": [
        "# 3. Validate AMP activity"
      ]
    },
    {
      "cell_type": "code",
      "metadata": {
        "id": "hgKljxQe8BT3",
        "colab_type": "code",
        "colab": {}
      },
      "source": [
        "df = pd.read_csv('/content/LSTM_peptides/training_sequences_noC.csv', header=None)\n",
        "training_prop = open('training_prop.csv', 'w')\n",
        "\n",
        "i = 0\n",
        "for item in df[0]:\n",
        "  training_prop.write('>{}\\n'.format(i))\n",
        "  training_prop.write(item)\n",
        "  training_prop.write('\\n')\n",
        "  i = i + 1"
      ],
      "execution_count": 0,
      "outputs": []
    },
    {
      "cell_type": "code",
      "metadata": {
        "id": "lCWbnMgiorrG",
        "colab_type": "code",
        "outputId": "5eb1065f-619b-46ad-cbab-5ac3bd797845",
        "colab": {
          "base_uri": "https://localhost:8080/",
          "height": 34
        }
      },
      "source": [
        "ratio = [i*0 for i in range(20)]\n",
        "for item in text:\n",
        "  ratio[char2idx[item]] = ratio[char2idx[item]] + 1\n",
        "\n",
        "total_length = sum([i for i in ratio])\n",
        "ratio = [i/total_length for i in ratio]\n",
        "prob = [sum(ratio[:i+1]) for i in range(20)]\n",
        "idx2char_list = idx2char.tolist()\n",
        "random_num = 1000\n",
        "random_seq = []\n",
        "latter = 'A'\n",
        "while len(random_seq) < random_num:\n",
        "  temp = ''\n",
        "  latter = 'A'\n",
        "  while latter != '\\n':\n",
        "    latter = idx2char_list[np.random.choice(20, 1, p=ratio).tolist()[0]][0]\n",
        "    temp = temp + latter\n",
        "  \n",
        "  if temp != '\\n':\n",
        "    random_seq.append(temp)\n",
        "  printProgress(len(random_seq),random_num, 'Progress=', 'Completed', 1, 50)"
      ],
      "execution_count": 44,
      "outputs": [
        {
          "output_type": "stream",
          "text": [
            "Progress= |##################################################| 100.0% Completed\n"
          ],
          "name": "stdout"
        }
      ]
    },
    {
      "cell_type": "code",
      "metadata": {
        "id": "vnHOiMDB7qGx",
        "colab_type": "code",
        "colab": {}
      },
      "source": [
        "f = open('random.csv', 'w')\n",
        "i = 0\n",
        "for item in random_seq:\n",
        "  f.write('>{}\\n'.format(i))\n",
        "  f.write(item)\n",
        "  i = i + 1\n",
        "f.close()"
      ],
      "execution_count": 0,
      "outputs": []
    },
    {
      "cell_type": "code",
      "metadata": {
        "id": "TP4zzq97xfb_",
        "colab_type": "code",
        "outputId": "b02ba652-8771-4817-c57a-e43f972f694c",
        "colab": {
          "resources": {
            "http://localhost:8080/nbextensions/google.colab/files.js": {
              "data": "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",
              "ok": true,
              "headers": [
                [
                  "content-type",
                  "application/javascript"
                ]
              ],
              "status": 200,
              "status_text": ""
            }
          },
          "base_uri": "https://localhost:8080/",
          "height": 43
        }
      },
      "source": [
        "upload = files.upload()"
      ],
      "execution_count": 0,
      "outputs": [
        {
          "output_type": "display_data",
          "data": {
            "text/html": [
              "\n",
              "     <input type=\"file\" id=\"files-ea76f700-ae40-4160-94db-97326ce83b3c\" name=\"files[]\" multiple disabled />\n",
              "     <output id=\"result-ea76f700-ae40-4160-94db-97326ce83b3c\">\n",
              "      Upload widget is only available when the cell has been executed in the\n",
              "      current browser session. Please rerun this cell to enable.\n",
              "      </output>\n",
              "      <script src=\"/nbextensions/google.colab/files.js\"></script> "
            ],
            "text/plain": [
              "<IPython.core.display.HTML object>"
            ]
          },
          "metadata": {
            "tags": []
          }
        }
      ]
    },
    {
      "cell_type": "code",
      "metadata": {
        "id": "PoAR23bW3W7-",
        "colab_type": "code",
        "cellView": "both",
        "colab": {}
      },
      "source": [
        "From_GoogleDrive = True #@param {type:\"boolean\"}\n",
        "\n",
        "if From_GoogleDrive == False:\n",
        "  trainingset_prop = pd.read_csv('/content/training.csv')\n",
        "  result_prop = pd.read_csv('/content/result.csv')\n",
        "  random_prop = pd.read_csv('/content/random.csv')\n",
        "\n",
        "else:\n",
        "  trainingset_prop = pd.read_csv('/content/drive/My Drive/training.csv')\n",
        "  result_prop = pd.read_csv('/content/drive/My Drive/result.csv')\n",
        "  random_prop = pd.read_csv('/content/drive/My Drive/random.csv')"
      ],
      "execution_count": 0,
      "outputs": []
    },
    {
      "cell_type": "code",
      "metadata": {
        "id": "_8Rqpo4oKpDV",
        "colab_type": "code",
        "colab": {}
      },
      "source": [
        "p_train2result = scipy.stats.ttest_ind(trainingset_prop['prob'], result_prop['prob'], equal_var=False).pvalue\n",
        "p_result2random = scipy.stats.ttest_ind(result_prop['prob'], random_prop['prob'], equal_var=False).pvalue"
      ],
      "execution_count": 0,
      "outputs": []
    },
    {
      "cell_type": "code",
      "metadata": {
        "id": "hEkJwwi-LT05",
        "colab_type": "code",
        "outputId": "0c8debde-ad79-4415-ac76-f552a9b345a6",
        "colab": {
          "base_uri": "https://localhost:8080/",
          "height": 87
        }
      },
      "source": [
        "print(\"=============== P value for Welch's T-test ===============\\n\")\n",
        "print(\"between training set and result = \", p_train2result)\n",
        "print(\"between random set and result = \", p_result2random)"
      ],
      "execution_count": 48,
      "outputs": [
        {
          "output_type": "stream",
          "text": [
            "=============== P value for Welch's T-test ===============\n",
            "\n",
            "between training set and result =  0.0002281317243468403\n",
            "between random set and result =  1.3534828801544558e-143\n"
          ],
          "name": "stdout"
        }
      ]
    },
    {
      "cell_type": "code",
      "metadata": {
        "id": "kLx2YPG73sr-",
        "colab_type": "code",
        "outputId": "366a5f16-d6b7-40c5-f0d0-1b835ad73eec",
        "colab": {
          "base_uri": "https://localhost:8080/",
          "height": 380
        }
      },
      "source": [
        "fig = plt.figure(figsize=(4,3))\n",
        "ax = fig.add_axes([0,0,1,1])\n",
        "plt.ylim((-0.025,1.1))\n",
        "plt.xticks([1,2,3],['Training set','Generated peptide', 'Random'])\n",
        "plt.ylabel(\"probability\")\n",
        "plt.xlabel(\"Dataset\")\n",
        "plt.style.use(['default'])\n",
        "bp1 = ax.violinplot(trainingset_prop['prob'], [1], widths=0.7, showmedians=True)\n",
        "bp2 = ax.violinplot(result_prop['prob'], [2], widths=0.7, showmedians=True)\n",
        "bp3 = ax.violinplot(random_prop['prob'], [3], widths=0.7, showmedians=True)\n",
        "\n",
        "\n",
        "plt.plot([1.05, 1.05, 1.95, 1.95], [1.02, 1.05, 1.05, 1.02], lw=1.4, c='k')\n",
        "ax.text(1.5, 1.06, \"***\",\n",
        "       horizontalalignment='center',\n",
        "       verticalalignment='center')\n",
        "\n",
        "plt.plot([2.05, 2.05, 2.95, 2.95], [1.02, 1.05, 1.05, 1.02], lw=1.4, c='k')\n",
        "ax.text(2.5, 1.06, \"*****\",\n",
        "       horizontalalignment='center',\n",
        "       verticalalignment='center')\n",
        "fig.show()"
      ],
      "execution_count": 49,
      "outputs": [
        {
          "output_type": "display_data",
          "data": {
            "image/png": "[encoded data removed]",
            "text/plain": [
              "<Figure size 400x300 with 1 Axes>"
            ]
          },
          "metadata": {
            "tags": []
          }
        }
      ]
    },
    {
      "cell_type": "markdown",
      "metadata": {
        "id": "4nMXTXWoI9YW",
        "colab_type": "text"
      },
      "source": [
        "<img src=\"https://pubs.acs.org/na101/home/literatum/publisher/achs/journals/content/jcisd8/2018/jcisd8.2018.58.issue-2/acs.jcim.7b00414/20180220/images/medium/ci-2017-00414w_0006.gif\">"
      ]
    }
  ]
}